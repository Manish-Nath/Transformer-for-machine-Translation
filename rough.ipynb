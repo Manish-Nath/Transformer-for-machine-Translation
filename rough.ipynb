{
 "cells": [
  {
   "cell_type": "code",
   "execution_count": 10,
   "metadata": {},
   "outputs": [
    {
     "name": "stdout",
     "output_type": "stream",
     "text": [
      "torch.Size([10, 1])\n",
      "tensor([[0.],\n",
      "        [1.],\n",
      "        [2.],\n",
      "        [3.],\n",
      "        [4.],\n",
      "        [5.],\n",
      "        [6.],\n",
      "        [7.],\n",
      "        [8.],\n",
      "        [9.]])\n"
     ]
    }
   ],
   "source": [
    "import torch\n",
    "import torch.nn as nn \n",
    "c=torch.arange(0,10,dtype=torch.float).unsqueeze(1)\n",
    "print(c.shape)\n",
    "print(c)"
   ]
  },
  {
   "cell_type": "code",
   "execution_count": 15,
   "metadata": {},
   "outputs": [
    {
     "name": "stdout",
     "output_type": "stream",
     "text": [
      "torch.Size([6])\n",
      "tensor([-7.6753e-01, -5.6713e+00, -4.1906e+01, -3.0964e+02, -2.2880e+03,\n",
      "        -1.6906e+04])\n"
     ]
    }
   ],
   "source": [
    "d_model=12\n",
    "import math\n",
    "x=torch.exp(torch.arange(0,d_model,2).float())*(-math.log(10000.0)/d_model)\n",
    "print(x.shape)\n",
    "print(x)"
   ]
  },
  {
   "cell_type": "code",
   "execution_count": 17,
   "metadata": {},
   "outputs": [
    {
     "name": "stdout",
     "output_type": "stream",
     "text": [
      "torch.Size([10, 6])\n"
     ]
    }
   ],
   "source": [
    "y=c/x\n",
    "print(y.shape)"
   ]
  },
  {
   "cell_type": "code",
   "execution_count": 38,
   "metadata": {},
   "outputs": [
    {
     "data": {
      "text/plain": [
       "torch.Size([6, 12])"
      ]
     },
     "execution_count": 38,
     "metadata": {},
     "output_type": "execute_result"
    }
   ],
   "source": [
    "        \n",
    "seq_len=6\n",
    "d_model=12\n",
    "\n",
    "pe=torch.zeros(seq_len,d_model)\n",
    "        #create a vector for position in seq_len*1\n",
    "\n",
    "position=torch.arange(0,seq_len,dtype=torch.float).unsqueeze(1)\n",
    "div_term=torch.exp(torch.arange(0,d_model,2).float())*(-math.log(10000.0)/d_model)         #2 is the step like 2,4,6,8\n",
    "        #apply sin to even position\n",
    "\n",
    "pe[:,0::2]=torch.sin(position/div_term)\n",
    "pe[:,1::2]=torch.cos(position/div_term)\n",
    "pe.shape"
   ]
  },
  {
   "cell_type": "code",
   "execution_count": null,
   "metadata": {},
   "outputs": [],
   "source": []
  },
  {
   "cell_type": "code",
   "execution_count": 41,
   "metadata": {},
   "outputs": [],
   "source": [
    "amd=pe.unsqueeze(0)\n"
   ]
  },
  {
   "cell_type": "code",
   "execution_count": 42,
   "metadata": {},
   "outputs": [
    {
     "data": {
      "text/plain": [
       "torch.Size([1, 6, 12])"
      ]
     },
     "execution_count": 42,
     "metadata": {},
     "output_type": "execute_result"
    }
   ],
   "source": [
    "amd.shape"
   ]
  },
  {
   "cell_type": "code",
   "execution_count": 45,
   "metadata": {},
   "outputs": [
    {
     "data": {
      "text/plain": [
       "tensor([[[-0.0000e+00,  1.0000e+00, -0.0000e+00,  1.0000e+00, -0.0000e+00,\n",
       "           1.0000e+00, -0.0000e+00,  1.0000e+00, -0.0000e+00,  1.0000e+00,\n",
       "          -0.0000e+00,  1.0000e+00],\n",
       "         [-9.6433e-01,  2.6472e-01, -1.7541e-01,  9.8449e-01, -2.3861e-02,\n",
       "           9.9972e-01, -3.2295e-03,  9.9999e-01, -4.3707e-04,  1.0000e+00,\n",
       "          -5.9151e-05,  1.0000e+00],\n",
       "         [-5.1055e-01, -8.5985e-01, -3.4539e-01,  9.3846e-01, -4.7708e-02,\n",
       "           9.9886e-01, -6.4590e-03,  9.9998e-01, -8.7414e-04,  1.0000e+00,\n",
       "          -1.1830e-04,  1.0000e+00],\n",
       "         [ 6.9402e-01, -7.1996e-01, -5.0465e-01,  8.6332e-01, -7.1528e-02,\n",
       "           9.9744e-01, -9.6884e-03,  9.9995e-01, -1.3112e-03,  1.0000e+00,\n",
       "          -1.7745e-04,  1.0000e+00],\n",
       "         [ 8.7799e-01,  4.7868e-01, -6.4827e-01,  7.6141e-01, -9.5308e-02,\n",
       "           9.9545e-01, -1.2918e-02,  9.9992e-01, -1.7483e-03,  1.0000e+00,\n",
       "          -2.3660e-04,  1.0000e+00],\n",
       "         [-2.2918e-01,  9.7338e-01, -7.7178e-01,  6.3589e-01, -1.1903e-01,\n",
       "           9.9289e-01, -1.6147e-02,  9.9987e-01, -2.1853e-03,  1.0000e+00,\n",
       "          -2.9575e-04,  1.0000e+00]]])"
      ]
     },
     "execution_count": 45,
     "metadata": {},
     "output_type": "execute_result"
    }
   ],
   "source": [
    "amd"
   ]
  },
  {
   "cell_type": "code",
   "execution_count": 55,
   "metadata": {},
   "outputs": [
    {
     "data": {
      "text/plain": [
       "torch.Size([1, 6, 1])"
      ]
     },
     "execution_count": 55,
     "metadata": {},
     "output_type": "execute_result"
    }
   ],
   "source": [
    "amd.mean(dim=-1,keepdim=True).shape"
   ]
  },
  {
   "cell_type": "code",
   "execution_count": 57,
   "metadata": {},
   "outputs": [
    {
     "name": "stdout",
     "output_type": "stream",
     "text": [
      "torch.Size([6, 12])\n"
     ]
    }
   ],
   "source": [
    "a=nn.Linear(12,12)\n",
    "print(a(pe))"
   ]
  },
  {
   "cell_type": "code",
   "execution_count": 60,
   "metadata": {},
   "outputs": [
    {
     "data": {
      "text/plain": [
       "torch.Size([1, 6, 12])"
      ]
     },
     "execution_count": 60,
     "metadata": {},
     "output_type": "execute_result"
    }
   ],
   "source": [
    "amd.shape"
   ]
  },
  {
   "cell_type": "code",
   "execution_count": 76,
   "metadata": {},
   "outputs": [
    {
     "data": {
      "text/plain": [
       "torch.Size([1, 3, 6, 6])"
      ]
     },
     "execution_count": 76,
     "metadata": {},
     "output_type": "execute_result"
    }
   ],
   "source": [
    "b=amd.view(amd.shape[0],amd.shape[1],3,4).transpose(1,2)\n",
    "d=(b@b.transpose(-2,-1))\n",
    "f=d@d\n",
    "f.shape"
   ]
  },
  {
   "cell_type": "code",
   "execution_count": 73,
   "metadata": {},
   "outputs": [
    {
     "data": {
      "text/plain": [
       "tensor([[[[0.0000, 0.2695, 0.0836, 0.0892, 0.0000, 0.0000],\n",
       "          [0.2898, 0.0000, 0.0000, 0.0000, 0.0959, 0.2872],\n",
       "          [0.1020, 0.0000, 0.6965, 0.0000, 0.0000, 0.1088],\n",
       "          [0.0000, 0.1020, 0.0000, 0.6965, 0.3287, 0.0000],\n",
       "          [0.2872, 0.0000, 0.0000, 0.2898, 0.0000, 0.2898],\n",
       "          [0.0000, 0.0000, 0.0892, 0.0836, 0.2695, 0.0000]],\n",
       "\n",
       "         [[0.2785, 0.2784, 0.2782, 0.2778, 0.2772, 0.2765],\n",
       "          [0.2781, 0.2782, 0.0000, 0.2779, 0.2775, 0.2769],\n",
       "          [0.2777, 0.2780, 0.0000, 0.0000, 0.2777, 0.2773],\n",
       "          [0.0000, 0.0000, 0.2780, 0.0000, 0.0000, 0.2777],\n",
       "          [0.2769, 0.0000, 0.2779, 0.0000, 0.0000, 0.0000],\n",
       "          [0.2765, 0.0000, 0.2778, 0.2782, 0.2784, 0.2785]],\n",
       "\n",
       "         [[0.2778, 0.0000, 0.2778, 0.2778, 0.0000, 0.0000],\n",
       "          [0.2778, 0.2778, 0.2778, 0.0000, 0.2778, 0.2778],\n",
       "          [0.2778, 0.0000, 0.0000, 0.2778, 0.0000, 0.2778],\n",
       "          [0.0000, 0.2778, 0.0000, 0.0000, 0.2778, 0.2778],\n",
       "          [0.2778, 0.2778, 0.0000, 0.0000, 0.2778, 0.2778],\n",
       "          [0.2778, 0.2778, 0.2778, 0.0000, 0.0000, 0.2778]]]])"
      ]
     },
     "execution_count": 73,
     "metadata": {},
     "output_type": "execute_result"
    }
   ],
   "source": [
    "import torch\n",
    "import torch.nn as nn\n",
    "\n",
    "# Assuming e is the tensor after softmax\n",
    "e = d.softmax(dim=-1)\n",
    "\n",
    "# Create a Dropout layer with 90% probability of dropping out neurons\n",
    "dropout = nn.Dropout(p=0.4)\n",
    "\n",
    "# Apply dropout to e\n",
    "e = dropout(e)\n",
    "e"
   ]
  },
  {
   "cell_type": "code",
   "execution_count": null,
   "metadata": {},
   "outputs": [],
   "source": []
  }
 ],
 "metadata": {
  "kernelspec": {
   "display_name": "Python 3",
   "language": "python",
   "name": "python3"
  },
  "language_info": {
   "codemirror_mode": {
    "name": "ipython",
    "version": 3
   },
   "file_extension": ".py",
   "mimetype": "text/x-python",
   "name": "python",
   "nbconvert_exporter": "python",
   "pygments_lexer": "ipython3",
   "version": "3.8.10"
  }
 },
 "nbformat": 4,
 "nbformat_minor": 2
}
